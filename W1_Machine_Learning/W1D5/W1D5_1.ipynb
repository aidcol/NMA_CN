{
 "cells": [
  {
   "cell_type": "markdown",
   "metadata": {},
   "source": [
    "Tutorial 1: Decoding Neural Responses\n",
    "\n",
    "Goals:\n",
    "    1. Build a deep feed-forward network using Pytorch\n",
    "    2. Evaluate the network's output using loss functions\n",
    "    3. Compute gradients of the loss with respect to each parameter of the network using automatic differentiation\n",
    "    4. Implement gradient descent to optimize the network's parameters"
   ]
  },
  {
   "cell_type": "code",
   "execution_count": null,
   "metadata": {},
   "outputs": [],
   "source": [
    "# Imports\n",
    "import os\n",
    "import numpy as np\n",
    "\n",
    "import torch\n",
    "from torch import nn\n",
    "from torch import optim\n",
    "\n",
    "import matplotlib as mpl\n",
    "from matplotlib import pyplot as plt"
   ]
  }
 ],
 "metadata": {
  "kernelspec": {
   "display_name": "Python 3.9.12 ('base')",
   "language": "python",
   "name": "python3"
  },
  "language_info": {
   "name": "python",
   "version": "3.9.12"
  },
  "orig_nbformat": 4,
  "vscode": {
   "interpreter": {
    "hash": "3d0e52e45788a0b80e04c81cc4f919423dca9534a1b0aa541a9291bc3ae717e9"
   }
  }
 },
 "nbformat": 4,
 "nbformat_minor": 2
}
